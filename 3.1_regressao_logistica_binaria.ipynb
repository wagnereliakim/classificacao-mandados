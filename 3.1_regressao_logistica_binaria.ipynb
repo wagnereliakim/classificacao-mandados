{
 "cells": [
  {
   "attachments": {},
   "cell_type": "markdown",
   "metadata": {},
   "source": [
    "# Modelo de Regressão Logística Binária"
   ]
  },
  {
   "attachments": {},
   "cell_type": "markdown",
   "metadata": {},
   "source": [
    "#### Imports das bibliotecas utilizadas"
   ]
  },
  {
   "cell_type": "code",
   "execution_count": 1,
   "metadata": {},
   "outputs": [],
   "source": [
    "import numpy as np \n",
    "import pandas as pd\n",
    "\n",
    "import matplotlib.pyplot as plt\n",
    "import seaborn as sns\n",
    "\n",
    "from sklearn.pipeline import Pipeline\n",
    "from sklearn.model_selection import train_test_split, RandomizedSearchCV\n",
    "\n",
    "from sklearn.linear_model import LogisticRegression\n",
    "from sklearn.feature_extraction.text import TfidfVectorizer\n",
    "from sklearn.metrics import classification_report, confusion_matrix, roc_curve, auc, precision_recall_curve, f1_score\n",
    "\n",
    "import pickle"
   ]
  },
  {
   "attachments": {},
   "cell_type": "markdown",
   "metadata": {},
   "source": [
    "#### Carregamento do dataset"
   ]
  },
  {
   "cell_type": "code",
   "execution_count": 2,
   "metadata": {},
   "outputs": [
    {
     "name": "stdout",
     "output_type": "stream",
     "text": [
      "Shape: (14040, 2)\n"
     ]
    }
   ],
   "source": [
    "USE_ALL_DATA=False\n",
    "\n",
    "df = pd.read_csv('../dados/amostra.sample.final.full.csv')\n",
    "df['texto_clean_pure'].replace(' ', np.nan, inplace=True)\n",
    "df.drop(df.columns.difference(['categoria_binaria','texto_clean_pure']), axis=1, inplace=True)\n",
    "df.dropna(subset=['texto_clean_pure'], inplace=True)\n",
    "if not USE_ALL_DATA:\n",
    "    df = df.sample(n=7020*2, random_state=80)\n",
    "\n",
    "print('Shape: {}'.format(df.shape))"
   ]
  },
  {
   "cell_type": "code",
   "execution_count": null,
   "metadata": {},
   "outputs": [],
   "source": [
    "df.head()"
   ]
  },
  {
   "attachments": {},
   "cell_type": "markdown",
   "metadata": {},
   "source": [
    "#### Funções utilitárias"
   ]
  },
  {
   "cell_type": "code",
   "execution_count": 4,
   "metadata": {},
   "outputs": [],
   "source": [
    "plt.rcParams.update({'font.size': 18})\n",
    "\n",
    "def _matrix_confusao(y_test, y_hat, show_report=True, show_chart=True):\n",
    "    if (show_report):\n",
    "        print(classification_report(y_test, y_hat, digits=4, zero_division=0))\n",
    "\n",
    "    if (show_chart):\n",
    "        cm_rlb = confusion_matrix(y_test, y_hat)\n",
    "        #plt.figure(figsize=(8, 6))\n",
    "        plt.figure(figsize=(10, 8))\n",
    "        #sns.set_context(\"poster\",font_scale=.8)\n",
    "        sns.heatmap(cm_rlb, annot=True, fmt='0.0f', linewidth=0.5, cmap='viridis_r',\n",
    "            square=True, cbar=False)\n",
    "        plt.ylabel(\"Classe Observada\")\n",
    "        plt.xlabel(\"Classe Prevista\")\n",
    "        plt.show()\n",
    "\n",
    "def _curva_roc(y, p_hat):\n",
    "    #Plot graph\n",
    "    fpr, tpr, thr = roc_curve(y, p_hat)\n",
    "    calculated_auc = auc(fpr, tpr)\n",
    "\n",
    "    sns.set_palette(\"viridis\")\n",
    "    plt.figure(figsize=(10, 8))\n",
    "    plt.plot(fpr, tpr)\n",
    "    plt.plot([0, 1], [0, 1], linestyle='--')\n",
    "    plt.xlabel('1 - Especificidade (Taxa de Falsos Positivos)') # False Positive Rate = False Positives / (False Positives + True Negatives) <=> Specificity = True Negatives / (True Negatives + False Positives) <=> False Positive Rate = 1 - Specificity\n",
    "    plt.ylabel('Sensibilidade (Taxa de Verdadeiros Positivos)') # True Positive Rate = True Positives / (True Positives + False Negatives) <=> Sensitivity = True Positives / (True Positives + False Negatives) <=> Recall\n",
    "    plt.legend([\"AUC {0:.4f}\".format(calculated_auc)], loc=\"lower right\")\n",
    "    plt.show()\n",
    "\n",
    "def _precision_recall(y_test, p_hat, y_hat):\n",
    "    precision, recall, _ = precision_recall_curve(y_test, p_hat)\n",
    "    f1, calculated_auc = f1_score(y_test, y_hat), auc(recall, precision)\n",
    "    no_skill = len(y_test[y_test==1]) / len(y_test)\n",
    "    \n",
    "    plt.figure(figsize=(10, 8))\n",
    "    plt.plot(recall, precision)\n",
    "    plt.plot([0, 1], [no_skill, no_skill], linestyle='--')\n",
    "    plt.xlabel('Revocação')\n",
    "    plt.ylabel('Precisão')\n",
    "    plt.legend([\"AUC {0:.4f}\".format(calculated_auc)], loc=\"lower right\")\n",
    "    plt.show()\n",
    "\n",
    "def _histograma(distribuition):\n",
    "    plt.figure(figsize=(10, 8))\n",
    "    plt.hist(distribuition, bins=50)\n",
    "    plt.text(0.51, 410,'cutoff', rotation=90)\n",
    "    plt.axvline(x=0.5, color='orange')\n",
    "    plt.grid(axis='y', alpha=0.50)\n",
    "    plt.xlabel('Probabilidade')\n",
    "    plt.ylabel('Frequência')\n",
    "    plt.show()\n"
   ]
  },
  {
   "attachments": {},
   "cell_type": "markdown",
   "metadata": {},
   "source": [
    "#### Criação do modelo"
   ]
  },
  {
   "cell_type": "code",
   "execution_count": 5,
   "metadata": {},
   "outputs": [],
   "source": [
    "X = df['texto_clean_pure'].values.astype('U')\n",
    "Y = df['categoria_binaria']"
   ]
  },
  {
   "cell_type": "code",
   "execution_count": 6,
   "metadata": {},
   "outputs": [
    {
     "name": "stdout",
     "output_type": "stream",
     "text": [
      "Shapes de TRAIN - x_train=(11232,) e y_train=(11232,)\n",
      "Shapes de VALIDATION - x_validation=(1404,) e y_validation=(1404,)\n",
      "Shapes de TEST - x_test=(1404,) e y_test=(1404,)\n"
     ]
    }
   ],
   "source": [
    "x_train, x_test, y_train, y_test = train_test_split(X, Y, test_size=0.20, random_state=42) # 80% treino\n",
    "x_validation, x_test, y_validation, y_test,  = train_test_split(x_test, y_test, test_size=0.5, random_state=42) # 10% teste e 10% validação\n",
    "\n",
    "print('Shapes de TRAIN - x_train={} e y_train={}'.format(np.shape(x_train), np.shape(y_train)))\n",
    "print('Shapes de VALIDATION - x_validation={} e y_validation={}'.format(np.shape(x_validation), np.shape(y_validation)))\n",
    "print('Shapes de TEST - x_test={} e y_test={}'.format(np.shape(x_test), np.shape(y_test)))"
   ]
  },
  {
   "attachments": {},
   "cell_type": "markdown",
   "metadata": {},
   "source": [
    "#### Cross Validation"
   ]
  },
  {
   "cell_type": "code",
   "execution_count": 7,
   "metadata": {},
   "outputs": [
    {
     "name": "stdout",
     "output_type": "stream",
     "text": [
      "Fitting 5 folds for each of 10 candidates, totalling 50 fits\n"
     ]
    },
    {
     "name": "stderr",
     "output_type": "stream",
     "text": [
      "/media/well/HD-E1/wagner/estudo/MBA - Data Science e Analytics/0_TCC/mandamus-classification/.venv/lib/python3.10/site-packages/sklearn/linear_model/_sag.py:350: ConvergenceWarning: The max_iter was reached which means the coef_ did not converge\n",
      "  warnings.warn(\n",
      "/media/well/HD-E1/wagner/estudo/MBA - Data Science e Analytics/0_TCC/mandamus-classification/.venv/lib/python3.10/site-packages/sklearn/linear_model/_sag.py:350: ConvergenceWarning: The max_iter was reached which means the coef_ did not converge\n",
      "  warnings.warn(\n"
     ]
    },
    {
     "name": "stdout",
     "output_type": "stream",
     "text": [
      "[CV 3/5] END clf__C=100, clf__penalty=l1, vect__max_df=0.85, vect__max_features=10000;, score=0.896 total time=  51.1s\n"
     ]
    },
    {
     "name": "stderr",
     "output_type": "stream",
     "text": [
      "/media/well/HD-E1/wagner/estudo/MBA - Data Science e Analytics/0_TCC/mandamus-classification/.venv/lib/python3.10/site-packages/sklearn/linear_model/_sag.py:350: ConvergenceWarning: The max_iter was reached which means the coef_ did not converge\n",
      "  warnings.warn(\n"
     ]
    },
    {
     "name": "stdout",
     "output_type": "stream",
     "text": [
      "[CV 1/5] END clf__C=100, clf__penalty=l1, vect__max_df=0.85, vect__max_features=10000;, score=0.912 total time=  51.8s\n"
     ]
    },
    {
     "name": "stderr",
     "output_type": "stream",
     "text": [
      "/media/well/HD-E1/wagner/estudo/MBA - Data Science e Analytics/0_TCC/mandamus-classification/.venv/lib/python3.10/site-packages/sklearn/linear_model/_sag.py:350: ConvergenceWarning: The max_iter was reached which means the coef_ did not converge\n",
      "  warnings.warn(\n",
      "/media/well/HD-E1/wagner/estudo/MBA - Data Science e Analytics/0_TCC/mandamus-classification/.venv/lib/python3.10/site-packages/sklearn/linear_model/_sag.py:350: ConvergenceWarning: The max_iter was reached which means the coef_ did not converge\n",
      "  warnings.warn(\n"
     ]
    },
    {
     "name": "stdout",
     "output_type": "stream",
     "text": [
      "[CV 2/5] END clf__C=100, clf__penalty=l1, vect__max_df=0.9, vect__max_features=10000;, score=0.895 total time=  52.5s\n",
      "[CV 5/5] END clf__C=100, clf__penalty=l1, vect__max_df=0.9, vect__max_features=10000;, score=0.901 total time=  52.9s\n",
      "[CV 3/5] END clf__C=100, clf__penalty=l1, vect__max_df=0.9, vect__max_features=10000;, score=0.896 total time=  53.3s\n"
     ]
    },
    {
     "name": "stderr",
     "output_type": "stream",
     "text": [
      "/media/well/HD-E1/wagner/estudo/MBA - Data Science e Analytics/0_TCC/mandamus-classification/.venv/lib/python3.10/site-packages/sklearn/linear_model/_sag.py:350: ConvergenceWarning: The max_iter was reached which means the coef_ did not converge\n",
      "  warnings.warn(\n",
      "/media/well/HD-E1/wagner/estudo/MBA - Data Science e Analytics/0_TCC/mandamus-classification/.venv/lib/python3.10/site-packages/sklearn/linear_model/_sag.py:350: ConvergenceWarning: The max_iter was reached which means the coef_ did not converge\n",
      "  warnings.warn(\n"
     ]
    },
    {
     "name": "stdout",
     "output_type": "stream",
     "text": [
      "[CV 2/5] END clf__C=100, clf__penalty=l1, vect__max_df=0.85, vect__max_features=10000;, score=0.895 total time=  54.9s\n",
      "[CV 1/5] END clf__C=100, clf__penalty=l1, vect__max_df=0.9, vect__max_features=10000;, score=0.911 total time=  55.6s\n"
     ]
    },
    {
     "name": "stderr",
     "output_type": "stream",
     "text": [
      "/media/well/HD-E1/wagner/estudo/MBA - Data Science e Analytics/0_TCC/mandamus-classification/.venv/lib/python3.10/site-packages/sklearn/linear_model/_sag.py:350: ConvergenceWarning: The max_iter was reached which means the coef_ did not converge\n",
      "  warnings.warn(\n"
     ]
    },
    {
     "name": "stdout",
     "output_type": "stream",
     "text": [
      "[CV 4/5] END clf__C=100, clf__penalty=l1, vect__max_df=0.9, vect__max_features=10000;, score=0.898 total time=  57.0s\n"
     ]
    },
    {
     "name": "stderr",
     "output_type": "stream",
     "text": [
      "/media/well/HD-E1/wagner/estudo/MBA - Data Science e Analytics/0_TCC/mandamus-classification/.venv/lib/python3.10/site-packages/sklearn/linear_model/_sag.py:350: ConvergenceWarning: The max_iter was reached which means the coef_ did not converge\n",
      "  warnings.warn(\n"
     ]
    },
    {
     "name": "stdout",
     "output_type": "stream",
     "text": [
      "[CV 1/5] END clf__C=100, clf__penalty=l2, vect__max_df=0.95, vect__max_features=1000;, score=0.900 total time=   7.9s\n"
     ]
    },
    {
     "name": "stderr",
     "output_type": "stream",
     "text": [
      "/media/well/HD-E1/wagner/estudo/MBA - Data Science e Analytics/0_TCC/mandamus-classification/.venv/lib/python3.10/site-packages/sklearn/linear_model/_sag.py:350: ConvergenceWarning: The max_iter was reached which means the coef_ did not converge\n",
      "  warnings.warn(\n",
      "/media/well/HD-E1/wagner/estudo/MBA - Data Science e Analytics/0_TCC/mandamus-classification/.venv/lib/python3.10/site-packages/sklearn/linear_model/_sag.py:350: ConvergenceWarning: The max_iter was reached which means the coef_ did not converge\n",
      "  warnings.warn(\n"
     ]
    },
    {
     "name": "stdout",
     "output_type": "stream",
     "text": [
      "[CV 1/5] END clf__C=100, clf__penalty=l1, vect__max_df=0.8, vect__max_features=1000;, score=0.893 total time=  14.1s\n",
      "[CV 2/5] END clf__C=100, clf__penalty=l1, vect__max_df=0.8, vect__max_features=1000;, score=0.896 total time=  14.1s\n"
     ]
    },
    {
     "name": "stderr",
     "output_type": "stream",
     "text": [
      "/media/well/HD-E1/wagner/estudo/MBA - Data Science e Analytics/0_TCC/mandamus-classification/.venv/lib/python3.10/site-packages/sklearn/linear_model/_sag.py:350: ConvergenceWarning: The max_iter was reached which means the coef_ did not converge\n",
      "  warnings.warn(\n"
     ]
    },
    {
     "name": "stdout",
     "output_type": "stream",
     "text": [
      "[CV 3/5] END clf__C=100, clf__penalty=l1, vect__max_df=0.8, vect__max_features=1000;, score=0.887 total time=  17.4s\n"
     ]
    },
    {
     "name": "stderr",
     "output_type": "stream",
     "text": [
      "/media/well/HD-E1/wagner/estudo/MBA - Data Science e Analytics/0_TCC/mandamus-classification/.venv/lib/python3.10/site-packages/sklearn/linear_model/_sag.py:350: ConvergenceWarning: The max_iter was reached which means the coef_ did not converge\n",
      "  warnings.warn(\n",
      "/media/well/HD-E1/wagner/estudo/MBA - Data Science e Analytics/0_TCC/mandamus-classification/.venv/lib/python3.10/site-packages/sklearn/linear_model/_sag.py:350: ConvergenceWarning: The max_iter was reached which means the coef_ did not converge\n",
      "  warnings.warn(\n"
     ]
    },
    {
     "name": "stdout",
     "output_type": "stream",
     "text": [
      "[CV 5/5] END clf__C=100, clf__penalty=l1, vect__max_df=0.8, vect__max_features=1000;, score=0.895 total time=  15.8s\n",
      "[CV 4/5] END clf__C=100, clf__penalty=l1, vect__max_df=0.8, vect__max_features=1000;, score=0.893 total time=  17.0s\n"
     ]
    },
    {
     "name": "stderr",
     "output_type": "stream",
     "text": [
      "/media/well/HD-E1/wagner/estudo/MBA - Data Science e Analytics/0_TCC/mandamus-classification/.venv/lib/python3.10/site-packages/sklearn/linear_model/_sag.py:350: ConvergenceWarning: The max_iter was reached which means the coef_ did not converge\n",
      "  warnings.warn(\n",
      "/media/well/HD-E1/wagner/estudo/MBA - Data Science e Analytics/0_TCC/mandamus-classification/.venv/lib/python3.10/site-packages/sklearn/linear_model/_sag.py:350: ConvergenceWarning: The max_iter was reached which means the coef_ did not converge\n",
      "  warnings.warn(\n",
      "/media/well/HD-E1/wagner/estudo/MBA - Data Science e Analytics/0_TCC/mandamus-classification/.venv/lib/python3.10/site-packages/sklearn/linear_model/_sag.py:350: ConvergenceWarning: The max_iter was reached which means the coef_ did not converge\n",
      "  warnings.warn(\n"
     ]
    },
    {
     "name": "stdout",
     "output_type": "stream",
     "text": [
      "[CV 3/5] END clf__C=100, clf__penalty=l2, vect__max_df=0.95, vect__max_features=1000;, score=0.889 total time=   6.3s\n",
      "[CV 4/5] END clf__C=100, clf__penalty=l2, vect__max_df=0.95, vect__max_features=1000;, score=0.898 total time=   6.5s\n",
      "[CV 2/5] END clf__C=100, clf__penalty=l2, vect__max_df=0.95, vect__max_features=1000;, score=0.901 total time=   8.8s\n"
     ]
    },
    {
     "name": "stderr",
     "output_type": "stream",
     "text": [
      "/media/well/HD-E1/wagner/estudo/MBA - Data Science e Analytics/0_TCC/mandamus-classification/.venv/lib/python3.10/site-packages/sklearn/linear_model/_sag.py:350: ConvergenceWarning: The max_iter was reached which means the coef_ did not converge\n",
      "  warnings.warn(\n",
      "/media/well/HD-E1/wagner/estudo/MBA - Data Science e Analytics/0_TCC/mandamus-classification/.venv/lib/python3.10/site-packages/sklearn/linear_model/_sag.py:350: ConvergenceWarning: The max_iter was reached which means the coef_ did not converge\n",
      "  warnings.warn(\n"
     ]
    },
    {
     "name": "stdout",
     "output_type": "stream",
     "text": [
      "[CV 5/5] END clf__C=100, clf__penalty=l2, vect__max_df=0.95, vect__max_features=1000;, score=0.900 total time=   7.3s\n",
      "[CV 1/5] END clf__C=1, clf__penalty=l1, vect__max_df=0.95, vect__max_features=100;, score=0.895 total time=   6.8s\n"
     ]
    },
    {
     "name": "stderr",
     "output_type": "stream",
     "text": [
      "/media/well/HD-E1/wagner/estudo/MBA - Data Science e Analytics/0_TCC/mandamus-classification/.venv/lib/python3.10/site-packages/sklearn/linear_model/_sag.py:350: ConvergenceWarning: The max_iter was reached which means the coef_ did not converge\n",
      "  warnings.warn(\n",
      "/media/well/HD-E1/wagner/estudo/MBA - Data Science e Analytics/0_TCC/mandamus-classification/.venv/lib/python3.10/site-packages/sklearn/linear_model/_sag.py:350: ConvergenceWarning: The max_iter was reached which means the coef_ did not converge\n",
      "  warnings.warn(\n"
     ]
    },
    {
     "name": "stdout",
     "output_type": "stream",
     "text": [
      "[CV 3/5] END clf__C=1, clf__penalty=l1, vect__max_df=0.95, vect__max_features=100;, score=0.890 total time=   6.2s\n",
      "[CV 2/5] END clf__C=1, clf__penalty=l1, vect__max_df=0.95, vect__max_features=100;, score=0.891 total time=   7.9s\n",
      "[CV 4/5] END clf__C=1, clf__penalty=l1, vect__max_df=0.95, vect__max_features=100;, score=0.893 total time=   6.4s\n",
      "[CV 5/5] END clf__C=1, clf__penalty=l1, vect__max_df=0.95, vect__max_features=100;, score=0.893 total time=   8.4s\n"
     ]
    },
    {
     "name": "stderr",
     "output_type": "stream",
     "text": [
      "/media/well/HD-E1/wagner/estudo/MBA - Data Science e Analytics/0_TCC/mandamus-classification/.venv/lib/python3.10/site-packages/sklearn/linear_model/_sag.py:350: ConvergenceWarning: The max_iter was reached which means the coef_ did not converge\n",
      "  warnings.warn(\n"
     ]
    },
    {
     "name": "stdout",
     "output_type": "stream",
     "text": [
      "[CV 1/5] END clf__C=10, clf__penalty=l2, vect__max_df=0.95, vect__max_features=100;, score=0.897 total time=   5.1s\n"
     ]
    },
    {
     "name": "stderr",
     "output_type": "stream",
     "text": [
      "/media/well/HD-E1/wagner/estudo/MBA - Data Science e Analytics/0_TCC/mandamus-classification/.venv/lib/python3.10/site-packages/sklearn/linear_model/_sag.py:350: ConvergenceWarning: The max_iter was reached which means the coef_ did not converge\n",
      "  warnings.warn(\n",
      "/media/well/HD-E1/wagner/estudo/MBA - Data Science e Analytics/0_TCC/mandamus-classification/.venv/lib/python3.10/site-packages/sklearn/linear_model/_sag.py:350: ConvergenceWarning: The max_iter was reached which means the coef_ did not converge\n",
      "  warnings.warn(\n"
     ]
    },
    {
     "name": "stdout",
     "output_type": "stream",
     "text": [
      "[CV 2/5] END clf__C=100, clf__penalty=l1, vect__max_df=0.9, vect__max_features=1000;, score=0.895 total time=  14.7s\n",
      "[CV 2/5] END clf__C=10, clf__penalty=l2, vect__max_df=0.95, vect__max_features=100;, score=0.887 total time=   5.3s\n"
     ]
    },
    {
     "name": "stderr",
     "output_type": "stream",
     "text": [
      "/media/well/HD-E1/wagner/estudo/MBA - Data Science e Analytics/0_TCC/mandamus-classification/.venv/lib/python3.10/site-packages/sklearn/linear_model/_sag.py:350: ConvergenceWarning: The max_iter was reached which means the coef_ did not converge\n",
      "  warnings.warn(\n"
     ]
    },
    {
     "name": "stdout",
     "output_type": "stream",
     "text": [
      "[CV 5/5] END clf__C=100, clf__penalty=l1, vect__max_df=0.9, vect__max_features=1000;, score=0.897 total time=  14.2s\n"
     ]
    },
    {
     "name": "stderr",
     "output_type": "stream",
     "text": [
      "/media/well/HD-E1/wagner/estudo/MBA - Data Science e Analytics/0_TCC/mandamus-classification/.venv/lib/python3.10/site-packages/sklearn/linear_model/_sag.py:350: ConvergenceWarning: The max_iter was reached which means the coef_ did not converge\n",
      "  warnings.warn(\n"
     ]
    },
    {
     "name": "stdout",
     "output_type": "stream",
     "text": [
      "[CV 1/5] END clf__C=100, clf__penalty=l1, vect__max_df=0.9, vect__max_features=1000;, score=0.894 total time=  17.0s\n"
     ]
    },
    {
     "name": "stderr",
     "output_type": "stream",
     "text": [
      "/media/well/HD-E1/wagner/estudo/MBA - Data Science e Analytics/0_TCC/mandamus-classification/.venv/lib/python3.10/site-packages/sklearn/linear_model/_sag.py:350: ConvergenceWarning: The max_iter was reached which means the coef_ did not converge\n",
      "  warnings.warn(\n",
      "/media/well/HD-E1/wagner/estudo/MBA - Data Science e Analytics/0_TCC/mandamus-classification/.venv/lib/python3.10/site-packages/sklearn/linear_model/_sag.py:350: ConvergenceWarning: The max_iter was reached which means the coef_ did not converge\n",
      "  warnings.warn(\n"
     ]
    },
    {
     "name": "stdout",
     "output_type": "stream",
     "text": [
      "[CV 3/5] END clf__C=100, clf__penalty=l1, vect__max_df=0.9, vect__max_features=1000;, score=0.886 total time=  17.5s\n",
      "[CV 4/5] END clf__C=100, clf__penalty=l1, vect__max_df=0.9, vect__max_features=1000;, score=0.894 total time=  17.0s\n"
     ]
    },
    {
     "name": "stderr",
     "output_type": "stream",
     "text": [
      "/media/well/HD-E1/wagner/estudo/MBA - Data Science e Analytics/0_TCC/mandamus-classification/.venv/lib/python3.10/site-packages/sklearn/linear_model/_sag.py:350: ConvergenceWarning: The max_iter was reached which means the coef_ did not converge\n",
      "  warnings.warn(\n",
      "/media/well/HD-E1/wagner/estudo/MBA - Data Science e Analytics/0_TCC/mandamus-classification/.venv/lib/python3.10/site-packages/sklearn/linear_model/_sag.py:350: ConvergenceWarning: The max_iter was reached which means the coef_ did not converge\n",
      "  warnings.warn(\n"
     ]
    },
    {
     "name": "stdout",
     "output_type": "stream",
     "text": [
      "[CV 4/5] END clf__C=10, clf__penalty=l2, vect__max_df=0.95, vect__max_features=100;, score=0.895 total time=   5.6s\n",
      "[CV 3/5] END clf__C=10, clf__penalty=l2, vect__max_df=0.95, vect__max_features=100;, score=0.887 total time=   5.9s\n"
     ]
    },
    {
     "name": "stderr",
     "output_type": "stream",
     "text": [
      "/media/well/HD-E1/wagner/estudo/MBA - Data Science e Analytics/0_TCC/mandamus-classification/.venv/lib/python3.10/site-packages/sklearn/linear_model/_sag.py:350: ConvergenceWarning: The max_iter was reached which means the coef_ did not converge\n",
      "  warnings.warn(\n"
     ]
    },
    {
     "name": "stdout",
     "output_type": "stream",
     "text": [
      "[CV 1/5] END clf__C=1, clf__penalty=l2, vect__max_df=0.9, vect__max_features=100;, score=0.895 total time=   5.8s\n"
     ]
    },
    {
     "name": "stderr",
     "output_type": "stream",
     "text": [
      "/media/well/HD-E1/wagner/estudo/MBA - Data Science e Analytics/0_TCC/mandamus-classification/.venv/lib/python3.10/site-packages/sklearn/linear_model/_sag.py:350: ConvergenceWarning: The max_iter was reached which means the coef_ did not converge\n",
      "  warnings.warn(\n"
     ]
    },
    {
     "name": "stdout",
     "output_type": "stream",
     "text": [
      "[CV 5/5] END clf__C=10, clf__penalty=l2, vect__max_df=0.95, vect__max_features=100;, score=0.891 total time=   7.9s\n"
     ]
    },
    {
     "name": "stderr",
     "output_type": "stream",
     "text": [
      "/media/well/HD-E1/wagner/estudo/MBA - Data Science e Analytics/0_TCC/mandamus-classification/.venv/lib/python3.10/site-packages/sklearn/linear_model/_sag.py:350: ConvergenceWarning: The max_iter was reached which means the coef_ did not converge\n",
      "  warnings.warn(\n",
      "/media/well/HD-E1/wagner/estudo/MBA - Data Science e Analytics/0_TCC/mandamus-classification/.venv/lib/python3.10/site-packages/sklearn/linear_model/_sag.py:350: ConvergenceWarning: The max_iter was reached which means the coef_ did not converge\n",
      "  warnings.warn(\n",
      "/media/well/HD-E1/wagner/estudo/MBA - Data Science e Analytics/0_TCC/mandamus-classification/.venv/lib/python3.10/site-packages/sklearn/linear_model/_sag.py:350: ConvergenceWarning: The max_iter was reached which means the coef_ did not converge\n",
      "  warnings.warn(\n"
     ]
    },
    {
     "name": "stdout",
     "output_type": "stream",
     "text": [
      "[CV 3/5] END clf__C=1, clf__penalty=l2, vect__max_df=0.9, vect__max_features=100;, score=0.888 total time=   7.1s\n",
      "[CV 4/5] END clf__C=1, clf__penalty=l2, vect__max_df=0.9, vect__max_features=100;, score=0.894 total time=   5.6s\n",
      "[CV 2/5] END clf__C=1, clf__penalty=l2, vect__max_df=0.9, vect__max_features=100;, score=0.888 total time=   7.9s\n",
      "[CV 5/5] END clf__C=1, clf__penalty=l2, vect__max_df=0.9, vect__max_features=100;, score=0.891 total time=   5.9s\n"
     ]
    },
    {
     "name": "stderr",
     "output_type": "stream",
     "text": [
      "/media/well/HD-E1/wagner/estudo/MBA - Data Science e Analytics/0_TCC/mandamus-classification/.venv/lib/python3.10/site-packages/sklearn/linear_model/_sag.py:350: ConvergenceWarning: The max_iter was reached which means the coef_ did not converge\n",
      "  warnings.warn(\n"
     ]
    },
    {
     "name": "stdout",
     "output_type": "stream",
     "text": [
      "[CV 5/5] END clf__C=100, clf__penalty=l1, vect__max_df=0.85, vect__max_features=10000;, score=0.902 total time=  54.9s\n"
     ]
    },
    {
     "name": "stderr",
     "output_type": "stream",
     "text": [
      "/media/well/HD-E1/wagner/estudo/MBA - Data Science e Analytics/0_TCC/mandamus-classification/.venv/lib/python3.10/site-packages/sklearn/linear_model/_sag.py:350: ConvergenceWarning: The max_iter was reached which means the coef_ did not converge\n",
      "  warnings.warn(\n"
     ]
    },
    {
     "name": "stdout",
     "output_type": "stream",
     "text": [
      "[CV 1/5] END clf__C=0.1, clf__penalty=l1, vect__max_df=0.8, vect__max_features=100;, score=0.890 total time=   6.0s\n",
      "[CV 4/5] END clf__C=100, clf__penalty=l1, vect__max_df=0.85, vect__max_features=10000;, score=0.897 total time=  57.6s\n",
      "[CV 2/5] END clf__C=0.1, clf__penalty=l1, vect__max_df=0.8, vect__max_features=100;, score=0.883 total time=   7.4s\n",
      "[CV 1/5] END clf__C=0.1, clf__penalty=l1, vect__max_df=0.95, vect__max_features=1000;, score=0.887 total time=   6.0s\n",
      "[CV 3/5] END clf__C=0.1, clf__penalty=l1, vect__max_df=0.8, vect__max_features=100;, score=0.883 total time=   7.3s\n",
      "[CV 4/5] END clf__C=0.1, clf__penalty=l1, vect__max_df=0.8, vect__max_features=100;, score=0.884 total time=   7.0s\n",
      "[CV 5/5] END clf__C=0.1, clf__penalty=l1, vect__max_df=0.8, vect__max_features=100;, score=0.882 total time=   7.4s\n",
      "[CV 2/5] END clf__C=0.1, clf__penalty=l1, vect__max_df=0.95, vect__max_features=1000;, score=0.881 total time=   6.6s\n",
      "[CV 3/5] END clf__C=0.1, clf__penalty=l1, vect__max_df=0.95, vect__max_features=1000;, score=0.882 total time=   5.9s\n",
      "[CV 4/5] END clf__C=0.1, clf__penalty=l1, vect__max_df=0.95, vect__max_features=1000;, score=0.883 total time=   5.9s\n",
      "[CV 5/5] END clf__C=0.1, clf__penalty=l1, vect__max_df=0.95, vect__max_features=1000;, score=0.881 total time=   5.2s\n"
     ]
    },
    {
     "name": "stderr",
     "output_type": "stream",
     "text": [
      "/media/well/HD-E1/wagner/estudo/MBA - Data Science e Analytics/0_TCC/mandamus-classification/.venv/lib/python3.10/site-packages/sklearn/linear_model/_sag.py:350: ConvergenceWarning: The max_iter was reached which means the coef_ did not converge\n",
      "  warnings.warn(\n"
     ]
    },
    {
     "data": {
      "text/html": [
       "<style>#sk-container-id-1 {color: black;background-color: white;}#sk-container-id-1 pre{padding: 0;}#sk-container-id-1 div.sk-toggleable {background-color: white;}#sk-container-id-1 label.sk-toggleable__label {cursor: pointer;display: block;width: 100%;margin-bottom: 0;padding: 0.3em;box-sizing: border-box;text-align: center;}#sk-container-id-1 label.sk-toggleable__label-arrow:before {content: \"▸\";float: left;margin-right: 0.25em;color: #696969;}#sk-container-id-1 label.sk-toggleable__label-arrow:hover:before {color: black;}#sk-container-id-1 div.sk-estimator:hover label.sk-toggleable__label-arrow:before {color: black;}#sk-container-id-1 div.sk-toggleable__content {max-height: 0;max-width: 0;overflow: hidden;text-align: left;background-color: #f0f8ff;}#sk-container-id-1 div.sk-toggleable__content pre {margin: 0.2em;color: black;border-radius: 0.25em;background-color: #f0f8ff;}#sk-container-id-1 input.sk-toggleable__control:checked~div.sk-toggleable__content {max-height: 200px;max-width: 100%;overflow: auto;}#sk-container-id-1 input.sk-toggleable__control:checked~label.sk-toggleable__label-arrow:before {content: \"▾\";}#sk-container-id-1 div.sk-estimator input.sk-toggleable__control:checked~label.sk-toggleable__label {background-color: #d4ebff;}#sk-container-id-1 div.sk-label input.sk-toggleable__control:checked~label.sk-toggleable__label {background-color: #d4ebff;}#sk-container-id-1 input.sk-hidden--visually {border: 0;clip: rect(1px 1px 1px 1px);clip: rect(1px, 1px, 1px, 1px);height: 1px;margin: -1px;overflow: hidden;padding: 0;position: absolute;width: 1px;}#sk-container-id-1 div.sk-estimator {font-family: monospace;background-color: #f0f8ff;border: 1px dotted black;border-radius: 0.25em;box-sizing: border-box;margin-bottom: 0.5em;}#sk-container-id-1 div.sk-estimator:hover {background-color: #d4ebff;}#sk-container-id-1 div.sk-parallel-item::after {content: \"\";width: 100%;border-bottom: 1px solid gray;flex-grow: 1;}#sk-container-id-1 div.sk-label:hover label.sk-toggleable__label {background-color: #d4ebff;}#sk-container-id-1 div.sk-serial::before {content: \"\";position: absolute;border-left: 1px solid gray;box-sizing: border-box;top: 0;bottom: 0;left: 50%;z-index: 0;}#sk-container-id-1 div.sk-serial {display: flex;flex-direction: column;align-items: center;background-color: white;padding-right: 0.2em;padding-left: 0.2em;position: relative;}#sk-container-id-1 div.sk-item {position: relative;z-index: 1;}#sk-container-id-1 div.sk-parallel {display: flex;align-items: stretch;justify-content: center;background-color: white;position: relative;}#sk-container-id-1 div.sk-item::before, #sk-container-id-1 div.sk-parallel-item::before {content: \"\";position: absolute;border-left: 1px solid gray;box-sizing: border-box;top: 0;bottom: 0;left: 50%;z-index: -1;}#sk-container-id-1 div.sk-parallel-item {display: flex;flex-direction: column;z-index: 1;position: relative;background-color: white;}#sk-container-id-1 div.sk-parallel-item:first-child::after {align-self: flex-end;width: 50%;}#sk-container-id-1 div.sk-parallel-item:last-child::after {align-self: flex-start;width: 50%;}#sk-container-id-1 div.sk-parallel-item:only-child::after {width: 0;}#sk-container-id-1 div.sk-dashed-wrapped {border: 1px dashed gray;margin: 0 0.4em 0.5em 0.4em;box-sizing: border-box;padding-bottom: 0.4em;background-color: white;}#sk-container-id-1 div.sk-label label {font-family: monospace;font-weight: bold;display: inline-block;line-height: 1.2em;}#sk-container-id-1 div.sk-label-container {text-align: center;}#sk-container-id-1 div.sk-container {/* jupyter's `normalize.less` sets `[hidden] { display: none; }` but bootstrap.min.css set `[hidden] { display: none !important; }` so we also need the `!important` here to be able to override the default hidden behavior on the sphinx rendered scikit-learn.org. See: https://github.com/scikit-learn/scikit-learn/issues/21755 */display: inline-block !important;position: relative;}#sk-container-id-1 div.sk-text-repr-fallback {display: none;}</style><div id=\"sk-container-id-1\" class=\"sk-top-container\"><div class=\"sk-text-repr-fallback\"><pre>RandomizedSearchCV(cv=5,\n",
       "                   estimator=Pipeline(steps=[(&#x27;vect&#x27;,\n",
       "                                              TfidfVectorizer(use_idf=False)),\n",
       "                                             (&#x27;clf&#x27;,\n",
       "                                              LogisticRegression(multi_class=&#x27;multinomial&#x27;,\n",
       "                                                                 random_state=42,\n",
       "                                                                 solver=&#x27;saga&#x27;))]),\n",
       "                   n_jobs=8,\n",
       "                   param_distributions={&#x27;clf__C&#x27;: [0.1, 1, 10, 100],\n",
       "                                        &#x27;clf__penalty&#x27;: [&#x27;l1&#x27;, &#x27;l2&#x27;],\n",
       "                                        &#x27;vect__max_df&#x27;: [0.8, 0.85, 0.9, 0.95],\n",
       "                                        &#x27;vect__max_features&#x27;: [100, 1000,\n",
       "                                                               10000]},\n",
       "                   random_state=42, scoring=&#x27;accuracy&#x27;, verbose=3)</pre><b>In a Jupyter environment, please rerun this cell to show the HTML representation or trust the notebook. <br />On GitHub, the HTML representation is unable to render, please try loading this page with nbviewer.org.</b></div><div class=\"sk-container\" hidden><div class=\"sk-item sk-dashed-wrapped\"><div class=\"sk-label-container\"><div class=\"sk-label sk-toggleable\"><input class=\"sk-toggleable__control sk-hidden--visually\" id=\"sk-estimator-id-1\" type=\"checkbox\" ><label for=\"sk-estimator-id-1\" class=\"sk-toggleable__label sk-toggleable__label-arrow\">RandomizedSearchCV</label><div class=\"sk-toggleable__content\"><pre>RandomizedSearchCV(cv=5,\n",
       "                   estimator=Pipeline(steps=[(&#x27;vect&#x27;,\n",
       "                                              TfidfVectorizer(use_idf=False)),\n",
       "                                             (&#x27;clf&#x27;,\n",
       "                                              LogisticRegression(multi_class=&#x27;multinomial&#x27;,\n",
       "                                                                 random_state=42,\n",
       "                                                                 solver=&#x27;saga&#x27;))]),\n",
       "                   n_jobs=8,\n",
       "                   param_distributions={&#x27;clf__C&#x27;: [0.1, 1, 10, 100],\n",
       "                                        &#x27;clf__penalty&#x27;: [&#x27;l1&#x27;, &#x27;l2&#x27;],\n",
       "                                        &#x27;vect__max_df&#x27;: [0.8, 0.85, 0.9, 0.95],\n",
       "                                        &#x27;vect__max_features&#x27;: [100, 1000,\n",
       "                                                               10000]},\n",
       "                   random_state=42, scoring=&#x27;accuracy&#x27;, verbose=3)</pre></div></div></div><div class=\"sk-parallel\"><div class=\"sk-parallel-item\"><div class=\"sk-item\"><div class=\"sk-label-container\"><div class=\"sk-label sk-toggleable\"><input class=\"sk-toggleable__control sk-hidden--visually\" id=\"sk-estimator-id-2\" type=\"checkbox\" ><label for=\"sk-estimator-id-2\" class=\"sk-toggleable__label sk-toggleable__label-arrow\">estimator: Pipeline</label><div class=\"sk-toggleable__content\"><pre>Pipeline(steps=[(&#x27;vect&#x27;, TfidfVectorizer(use_idf=False)),\n",
       "                (&#x27;clf&#x27;,\n",
       "                 LogisticRegression(multi_class=&#x27;multinomial&#x27;, random_state=42,\n",
       "                                    solver=&#x27;saga&#x27;))])</pre></div></div></div><div class=\"sk-serial\"><div class=\"sk-item\"><div class=\"sk-serial\"><div class=\"sk-item\"><div class=\"sk-estimator sk-toggleable\"><input class=\"sk-toggleable__control sk-hidden--visually\" id=\"sk-estimator-id-3\" type=\"checkbox\" ><label for=\"sk-estimator-id-3\" class=\"sk-toggleable__label sk-toggleable__label-arrow\">TfidfVectorizer</label><div class=\"sk-toggleable__content\"><pre>TfidfVectorizer(use_idf=False)</pre></div></div></div><div class=\"sk-item\"><div class=\"sk-estimator sk-toggleable\"><input class=\"sk-toggleable__control sk-hidden--visually\" id=\"sk-estimator-id-4\" type=\"checkbox\" ><label for=\"sk-estimator-id-4\" class=\"sk-toggleable__label sk-toggleable__label-arrow\">LogisticRegression</label><div class=\"sk-toggleable__content\"><pre>LogisticRegression(multi_class=&#x27;multinomial&#x27;, random_state=42, solver=&#x27;saga&#x27;)</pre></div></div></div></div></div></div></div></div></div></div></div></div>"
      ],
      "text/plain": [
       "RandomizedSearchCV(cv=5,\n",
       "                   estimator=Pipeline(steps=[('vect',\n",
       "                                              TfidfVectorizer(use_idf=False)),\n",
       "                                             ('clf',\n",
       "                                              LogisticRegression(multi_class='multinomial',\n",
       "                                                                 random_state=42,\n",
       "                                                                 solver='saga'))]),\n",
       "                   n_jobs=8,\n",
       "                   param_distributions={'clf__C': [0.1, 1, 10, 100],\n",
       "                                        'clf__penalty': ['l1', 'l2'],\n",
       "                                        'vect__max_df': [0.8, 0.85, 0.9, 0.95],\n",
       "                                        'vect__max_features': [100, 1000,\n",
       "                                                               10000]},\n",
       "                   random_state=42, scoring='accuracy', verbose=3)"
      ]
     },
     "execution_count": 7,
     "metadata": {},
     "output_type": "execute_result"
    }
   ],
   "source": [
    "\n",
    "# defining parameter range\n",
    "param_grid = {\n",
    "              'vect__max_df': [0.80, 0.85, 0.90, 0.95],\n",
    "              'vect__max_features': [100, 1000, 10000],\n",
    "              'clf__C' : [0.1, 1, 10, 100], \n",
    "              'clf__penalty': ['l1', 'l2'],\n",
    "              }\n",
    "n_folds = 5\n",
    "n_jobs = 8\n",
    "\n",
    "vectorize_tfidf = TfidfVectorizer(use_idf=False, lowercase=True) \n",
    "clf = LogisticRegression(random_state=42, solver='saga', multi_class='multinomial')\n",
    "\n",
    "lr_pipeline = Pipeline([('vect', vectorize_tfidf), ('clf', clf)])\n",
    "grid = RandomizedSearchCV(lr_pipeline, param_grid, cv=n_folds, random_state=42, refit=True, verbose=3, n_jobs=n_jobs, scoring='accuracy') \n",
    "\n",
    "grid.fit(x_train, y_train)"
   ]
  },
  {
   "attachments": {},
   "cell_type": "markdown",
   "metadata": {},
   "source": [
    "#### Salvando e/recuperando o modelo em disco"
   ]
  },
  {
   "cell_type": "code",
   "execution_count": 8,
   "metadata": {},
   "outputs": [],
   "source": [
    "\n",
    "# open a file, where you stored the pickled data\n",
    "#output_model_path = \"/media/well/HD-E1/wagner/estudo/MBA - Data Science e Analytics/0_TCC/dados/3.1-regressao-logistica-seguida-multinomial-model.pkl\"\n",
    "\n",
    "#pickle.dump(grid, open(output_model_path, 'wb'))\n",
    "\n",
    "#grid = pickle.load(open(output_model_path, 'rb'))"
   ]
  },
  {
   "cell_type": "code",
   "execution_count": 9,
   "metadata": {},
   "outputs": [
    {
     "name": "stdout",
     "output_type": "stream",
     "text": [
      "{'vect__max_features': 10000, 'vect__max_df': 0.85, 'clf__penalty': 'l1', 'clf__C': 100}\n",
      "{'mean_fit_time': array([53.22367334, 53.20896463, 14.96229177,  6.62789855,  6.42398601,\n",
      "       15.29454641,  5.32607269,  5.72738595,  6.17454319,  5.34178586]), 'std_fit_time': array([1.63548503, 2.24569642, 1.32846755, 0.81478681, 0.76687845,\n",
      "       1.27496351, 0.92494738, 0.74463592, 0.57137423, 0.38418783]), 'mean_score_time': array([1.02047477, 0.85084372, 0.72294097, 0.72456393, 0.70679431,\n",
      "       0.77399564, 0.6353663 , 0.72337265, 0.83735538, 0.56909809]), 'std_score_time': array([0.17685223, 0.1136312 , 0.11225906, 0.12402661, 0.08946016,\n",
      "       0.15604737, 0.09538653, 0.15031092, 0.08790842, 0.08324402]), 'param_vect__max_features': masked_array(data=[10000, 10000, 1000, 1000, 100, 1000, 100, 100, 100,\n",
      "                   1000],\n",
      "             mask=[False, False, False, False, False, False, False, False,\n",
      "                   False, False],\n",
      "       fill_value='?',\n",
      "            dtype=object), 'param_vect__max_df': masked_array(data=[0.9, 0.85, 0.8, 0.95, 0.95, 0.9, 0.95, 0.9, 0.8, 0.95],\n",
      "             mask=[False, False, False, False, False, False, False, False,\n",
      "                   False, False],\n",
      "       fill_value='?',\n",
      "            dtype=object), 'param_clf__penalty': masked_array(data=['l1', 'l1', 'l1', 'l2', 'l1', 'l1', 'l2', 'l2', 'l1',\n",
      "                   'l1'],\n",
      "             mask=[False, False, False, False, False, False, False, False,\n",
      "                   False, False],\n",
      "       fill_value='?',\n",
      "            dtype=object), 'param_clf__C': masked_array(data=[100, 100, 100, 100, 1, 100, 10, 1, 0.1, 0.1],\n",
      "             mask=[False, False, False, False, False, False, False, False,\n",
      "                   False, False],\n",
      "       fill_value='?',\n",
      "            dtype=object), 'params': [{'vect__max_features': 10000, 'vect__max_df': 0.9, 'clf__penalty': 'l1', 'clf__C': 100}, {'vect__max_features': 10000, 'vect__max_df': 0.85, 'clf__penalty': 'l1', 'clf__C': 100}, {'vect__max_features': 1000, 'vect__max_df': 0.8, 'clf__penalty': 'l1', 'clf__C': 100}, {'vect__max_features': 1000, 'vect__max_df': 0.95, 'clf__penalty': 'l2', 'clf__C': 100}, {'vect__max_features': 100, 'vect__max_df': 0.95, 'clf__penalty': 'l1', 'clf__C': 1}, {'vect__max_features': 1000, 'vect__max_df': 0.9, 'clf__penalty': 'l1', 'clf__C': 100}, {'vect__max_features': 100, 'vect__max_df': 0.95, 'clf__penalty': 'l2', 'clf__C': 10}, {'vect__max_features': 100, 'vect__max_df': 0.9, 'clf__penalty': 'l2', 'clf__C': 1}, {'vect__max_features': 100, 'vect__max_df': 0.8, 'clf__penalty': 'l1', 'clf__C': 0.1}, {'vect__max_features': 1000, 'vect__max_df': 0.95, 'clf__penalty': 'l1', 'clf__C': 0.1}], 'split0_test_score': array([0.91099243, 0.91188251, 0.89319092, 0.89986649, 0.89541611,\n",
      "       0.894081  , 0.89675122, 0.89497107, 0.88963062, 0.88696039]), 'split1_test_score': array([0.89497107, 0.89541611, 0.89586115, 0.9012016 , 0.89052069,\n",
      "       0.89541611, 0.88696039, 0.88829551, 0.88295505, 0.8811749 ]), 'split2_test_score': array([0.89626002, 0.89626002, 0.88691006, 0.88913624, 0.89047195,\n",
      "       0.88601959, 0.8873553 , 0.88824577, 0.88334817, 0.88201247]), 'split3_test_score': array([0.8984862 , 0.89670525, 0.89269813, 0.89759573, 0.89314337,\n",
      "       0.89403384, 0.89492431, 0.89403384, 0.88379341, 0.88334817]), 'split4_test_score': array([0.90115761, 0.90204809, 0.89492431, 0.89982191, 0.89269813,\n",
      "       0.89670525, 0.89091719, 0.89136242, 0.88201247, 0.88067676]), 'mean_test_score': array([0.90037347, 0.9004624 , 0.89271691, 0.89752439, 0.89245005,\n",
      "       0.89325116, 0.89138168, 0.89138172, 0.88434794, 0.88283454]), 'std_test_score': array([0.00571044, 0.00616724, 0.00312101, 0.00435091, 0.00184255,\n",
      "       0.00374739, 0.00393338, 0.00280273, 0.00270586, 0.00225267]), 'rank_test_score': array([ 2,  1,  5,  3,  6,  4,  8,  7,  9, 10], dtype=int32)}\n",
      "[0.90037347 0.9004624  0.89271691 0.89752439 0.89245005 0.89325116\n",
      " 0.89138168 0.89138172 0.88434794 0.88283454]\n",
      "[0.00571044 0.00616724 0.00312101 0.00435091 0.00184255 0.00374739\n",
      " 0.00393338 0.00280273 0.00270586 0.00225267]\n",
      "Tamanho do vocabulário: 10000\n"
     ]
    }
   ],
   "source": [
    "print(grid.best_params_)\n",
    "print(grid.cv_results_)\n",
    "print(grid.cv_results_[\"mean_test_score\"])\n",
    "print(grid.cv_results_[\"std_test_score\"])\n",
    "print('Tamanho do vocabulário: {}'.format(grid.best_estimator_[0].vocabulary_.__len__()))"
   ]
  },
  {
   "cell_type": "markdown",
   "metadata": {},
   "source": [
    "#### Aplicação na base de testes"
   ]
  },
  {
   "cell_type": "code",
   "execution_count": 10,
   "metadata": {},
   "outputs": [],
   "source": [
    "model = grid.best_estimator_\n",
    "\n",
    "p_hat = model.predict_proba(x_test)[:, 1]\n",
    "y_hat = [0 if probability < 0.5 else 1 for probability in p_hat]"
   ]
  },
  {
   "attachments": {},
   "cell_type": "markdown",
   "metadata": {},
   "source": [
    "#### Geração de estatísticas"
   ]
  },
  {
   "cell_type": "code",
   "execution_count": 11,
   "metadata": {},
   "outputs": [
    {
     "name": "stdout",
     "output_type": "stream",
     "text": [
      "              precision    recall  f1-score   support\n",
      "\n",
      "           0     0.9441    0.9571    0.9505      1235\n",
      "           1     0.6513    0.5858    0.6168       169\n",
      "\n",
      "    accuracy                         0.9124      1404\n",
      "   macro avg     0.7977    0.7714    0.7837      1404\n",
      "weighted avg     0.9088    0.9124    0.9104      1404\n",
      "\n"
     ]
    },
    {
     "data": {
      "image/png": "[encoded data removed]",
      "text/plain": [
       "<Figure size 720x576 with 1 Axes>"
      ]
     },
     "metadata": {
      "needs_background": "light"
     },
     "output_type": "display_data"
    },
    {
     "data": {
      "image/png": "[encoded data removed]",
      "text/plain": [
       "<Figure size 720x576 with 1 Axes>"
      ]
     },
     "metadata": {
      "needs_background": "light"
     },
     "output_type": "display_data"
    },
    {
     "data": {
      "image/png": "[encoded data removed]",
      "text/plain": [
       "<Figure size 720x576 with 1 Axes>"
      ]
     },
     "metadata": {
      "needs_background": "light"
     },
     "output_type": "display_data"
    },
    {
     "data": {
      "image/png": "[encoded data removed]",
      "text/plain": [
       "<Figure size 720x576 with 1 Axes>"
      ]
     },
     "metadata": {
      "needs_background": "light"
     },
     "output_type": "display_data"
    }
   ],
   "source": [
    "_matrix_confusao(y_test, y_hat)\n",
    "_curva_roc(y_test, p_hat)\n",
    "_precision_recall(y_test, p_hat, y_hat)\n",
    "_histograma(p_hat)"
   ]
  }
 ],
 "metadata": {
  "kernelspec": {
   "display_name": "Python 3.10.6 ('.venv': venv)",
   "language": "python",
   "name": "python3"
  },
  "language_info": {
   "codemirror_mode": {
    "name": "ipython",
    "version": 3
   },
   "file_extension": ".py",
   "mimetype": "text/x-python",
   "name": "python",
   "nbconvert_exporter": "python",
   "pygments_lexer": "ipython3",
   "version": "3.10.7"
  },
  "orig_nbformat": 4,
  "vscode": {
   "interpreter": {
    "hash": "e99eb1728f8c1d324c385629a52913aa159c2c0ce78b3233732d363a13709a03"
   }
  }
 },
 "nbformat": 4,
 "nbformat_minor": 2
}
