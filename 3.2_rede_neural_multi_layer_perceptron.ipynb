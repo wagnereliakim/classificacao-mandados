{
 "cells": [
  {
   "attachments": {},
   "cell_type": "markdown",
   "metadata": {},
   "source": [
    "# Modelo de Rede Neural"
   ]
  },
  {
   "attachments": {},
   "cell_type": "markdown",
   "metadata": {},
   "source": [
    "#### Imports das bibliotecas utilizadas"
   ]
  },
  {
   "cell_type": "code",
   "execution_count": 1,
   "metadata": {},
   "outputs": [],
   "source": [
    "### https://developer.nvidia.com/cuda-downloads\n",
    "\n",
    "import pandas as pd\n",
    "\n",
    "import tensorflow as tf\n",
    "from keras import backend as K\n",
    "from tensorflow.keras.preprocessing.sequence import pad_sequences\n",
    "from tensorflow.keras.models import Sequential\n",
    "from tensorflow.keras.layers import Dense, Flatten, Dropout, Embedding\n",
    "from tensorflow.keras.preprocessing.text import Tokenizer\n",
    "\n",
    "from sklearn.model_selection import train_test_split\n",
    "from sklearn.metrics import classification_report, confusion_matrix, roc_curve, auc, precision_recall_curve, f1_score\n",
    "\n",
    "import seaborn as sns\n",
    "import matplotlib.pyplot as plt\n",
    "\n",
    "import nltk"
   ]
  },
  {
   "attachments": {},
   "cell_type": "markdown",
   "metadata": {},
   "source": [
    "#### Definindo seed globalmente"
   ]
  },
  {
   "cell_type": "code",
   "execution_count": 2,
   "metadata": {},
   "outputs": [],
   "source": [
    "# Seed value\n",
    "# Apparently you may use different seed values at each stage\n",
    "seed_value= 0\n",
    "\n",
    "# 1. Set the `PYTHONHASHSEED` environment variable at a fixed value\n",
    "import os\n",
    "os.environ['PYTHONHASHSEED']=str(seed_value)\n",
    "\n",
    "# 2. Set the `python` built-in pseudo-random generator at a fixed value\n",
    "import random\n",
    "random.seed(seed_value)\n",
    "\n",
    "# 3. Set the `numpy` pseudo-random generator at a fixed value\n",
    "import numpy as np\n",
    "np.random.seed(seed_value)\n",
    "\n",
    "# 4. Set the `tensorflow` pseudo-random generator at a fixed value\n",
    "import tensorflow as tf\n",
    "tf.random.set_seed(seed_value)"
   ]
  },
  {
   "attachments": {},
   "cell_type": "markdown",
   "metadata": {},
   "source": [
    "#### Carregamento do dataset"
   ]
  },
  {
   "cell_type": "code",
   "execution_count": 3,
   "metadata": {},
   "outputs": [
    {
     "name": "stdout",
     "output_type": "stream",
     "text": [
      "Shape: (14040, 2)\n"
     ]
    }
   ],
   "source": [
    "USE_ALL_DATA=False\n",
    "\n",
    "df = pd.read_csv('../dados/amostra.sample.final.full.csv')\n",
    "df['texto_clean_pure'].replace(' ', np.nan, inplace=True)\n",
    "df.drop(df.columns.difference(['categoria_binaria','texto_clean_pure']), axis=1, inplace=True)\n",
    "df.dropna(subset=['texto_clean_pure'], inplace=True)\n",
    "if not USE_ALL_DATA:\n",
    "    df = df.sample(n=7020*2, random_state=80)\n",
    "\n",
    "print('Shape: {}'.format(df.shape))"
   ]
  },
  {
   "cell_type": "code",
   "execution_count": null,
   "metadata": {},
   "outputs": [],
   "source": [
    "df.head()"
   ]
  },
  {
   "cell_type": "markdown",
   "metadata": {},
   "source": [
    "#### Definição de hiperparâmetros"
   ]
  },
  {
   "cell_type": "code",
   "execution_count": 6,
   "metadata": {},
   "outputs": [],
   "source": [
    "oov_tok = \"<UKN>\"\n",
    "vocab_size = 100000\n",
    "\n",
    "# output directory name\n",
    "output_dir = 'model_output/dense'\n",
    "\n",
    "# training:\n",
    "epochs = 40\n",
    "batch_size = 512\n",
    "\n",
    "# vector-space embedding:\n",
    "n_dim = 16\n",
    "n_unique_words = vocab_size + 1\n",
    "n_words_to_skip = 50\n",
    "\n",
    "\n",
    "# newral network architecture:\n",
    "n_dense = 64\n",
    "dropout = 0.5\n",
    "\n",
    "# Optimizer\n",
    "base_learning_rate = 0.0001\n",
    "\n",
    "# padding\n",
    "padding_type = trunc_type  = 'pre' # or'post'\n",
    "##### Set hyperparameters - END\n",
    "\n",
    "plt.rcParams.update({'font.size': 18})"
   ]
  },
  {
   "attachments": {},
   "cell_type": "markdown",
   "metadata": {},
   "source": [
    "#### Funções utilitárias"
   ]
  },
  {
   "cell_type": "code",
   "execution_count": 9,
   "metadata": {},
   "outputs": [],
   "source": [
    "def _vectorize(X):\n",
    "    # intializing a tokenizer that can index\n",
    "    # num_words is the maximum number words that can be kept \n",
    "    # tokenizer will automatically help in choosing most frequent words\n",
    "    tokenizer = Tokenizer(num_words=vocab_size, oov_token=oov_tok)\n",
    "\n",
    "    # fitting the sentences to using created tokenizer object\n",
    "    tokenizer.fit_on_texts(X)\n",
    "    # the full list of words is available as the tokenizer's word index\n",
    "    word_index_items = tokenizer.word_index.items()\n",
    "\n",
    "    # this creates sequence of tokens representing each sentence\n",
    "    sequences = tokenizer.texts_to_sequences(X)\n",
    "\n",
    "    return sequences, word_index_items, tokenizer.word_counts\n",
    "\n",
    "# Function takes a tokenized sentence and returns the words\n",
    "def sequence_to_text(list_of_indices, word_index_items):\n",
    "    reverse_word_map = dict(map(reversed, word_index_items))\n",
    "\n",
    "    # Looking up words in dictionary\n",
    "    words = [reverse_word_map.get(letter) for letter in list_of_indices]\n",
    "    return(words)\n",
    "\n",
    "def calcula_frequencias(df, column_name, n_words=20):\n",
    "    todas_palavras = ' '.join([texto for texto in df[column_name]])\n",
    "    token_espaco = nltk.WhitespaceTokenizer()\n",
    "    token_frase = token_espaco.tokenize(todas_palavras)\n",
    "    frequencia = nltk.FreqDist(token_frase)\n",
    "\n",
    "    df_frequencia = pd.DataFrame({'palavra': list(frequencia.keys()),\n",
    "                                'frequencia': list(frequencia.values())})\n",
    "\n",
    "    nlargest = df_frequencia.nlargest(columns='frequencia', n=n_words)\n",
    "    nsmallest = df_frequencia.nsmallest(columns='frequencia', n=n_words)\n",
    "\n",
    "    return nlargest, nlargest['palavra'].values, nsmallest['palavra'].values\n",
    "\n",
    "def chart_frequencia_palavras(df, column_name, n_words):\n",
    "    calculo_frequencia = calcula_frequencias(df, column_name=column_name, n_words=n_words)\n",
    "    df_frequencia = calculo_frequencia[0]\n",
    "\n",
    "    total = df_frequencia['frequencia'].sum()\n",
    "    df_frequencia['cumsum'] = df_frequencia['frequencia'].cumsum()\n",
    "    df_frequencia['porcentagem'] = df_frequencia['frequencia'].cumsum() / total * 100\n",
    "\n",
    "    plt.figure(figsize=(12,8))\n",
    "    ax = sns.barplot(data=df_frequencia, x='palavra', y='frequencia')\n",
    "    for item in ax.get_xticklabels():\n",
    "        item.set_rotation(45)\n",
    "    \n",
    "    ax2 = ax.twinx()\n",
    "    sns.lineplot(data=df_frequencia, x='palavra', y=\"porcentagem\", sort=False, ax=ax2, color=\"Red\")\n",
    "\n",
    "    plt.show()\n",
    "\n",
    "def chart_palavras_por_documento(sequences):\n",
    "    min_palavras = 0\n",
    "    df_length_sequences = pd.DataFrame([len(x) for x in sequences], columns=['length'])\n",
    "\n",
    "    df_length_x_documentos = pd.DataFrame({'qtd_documentos' : df_length_sequences.groupby(['length'])['length'].count()}) \\\n",
    "                                .reset_index() \\\n",
    "                                .query(\"`length` >= {}\".format(min_palavras)) \\\n",
    "                                .sort_values(by=['length', 'qtd_documentos'], ascending=[False, True])\n",
    "\n",
    "    media_quantidade_palavras = round(df_length_x_documentos['length'].mean())\n",
    "    print(\"Número médio de palavras: {} (pelo menos {} palavras)\".format(media_quantidade_palavras, min_palavras))\n",
    "\n",
    "    plt.scatter(df_length_x_documentos['length'], df_length_x_documentos['qtd_documentos'])\n",
    "    plt.xlabel('Qtd. palavras')\n",
    "    plt.ylabel('Qtd. documentos')\n",
    "    plt.show()\n",
    "\n",
    "    return media_quantidade_palavras\n",
    "\n",
    "def _pad(sequences, max_length):\n",
    "    # padding sequences \n",
    "    padded = pad_sequences(sequences,\n",
    "                           truncating=trunc_type,\n",
    "                           padding = padding_type,\n",
    "                           maxlen = max_length)\n",
    "\n",
    "    # converting all variables to numpy arrays, to be able to work with tf version 2\n",
    "    clean_sents_padded = np.array(padded)\n",
    "\n",
    "    return clean_sents_padded\n",
    "\n",
    "def _matrix_confusao(y_test, y_hat, show_report=True, show_chart=True):\n",
    "    if (show_report):\n",
    "        print(classification_report(y_test, y_hat, digits=4, zero_division=0))\n",
    "\n",
    "    if (show_chart):\n",
    "        cm_rlb = confusion_matrix(y_test, y_hat)\n",
    "        #plt.figure(figsize=(8, 6))\n",
    "        plt.figure(figsize=(10, 8))\n",
    "        #sns.set_context(\"poster\",font_scale=.8)\n",
    "        sns.heatmap(cm_rlb, annot=True, fmt='0.0f', linewidth=0.5, cmap='viridis_r',\n",
    "            square=True, cbar=False)\n",
    "        plt.ylabel(\"Classe Observada\")\n",
    "        plt.xlabel(\"Classe Prevista\")\n",
    "        plt.show()\n",
    "\n",
    "def _curva_roc(y, p_hat):\n",
    "    #Plot graph\n",
    "    fpr, tpr, thr = roc_curve(y, p_hat)\n",
    "    calculated_auc = auc(fpr, tpr)\n",
    "\n",
    "    sns.set_palette(\"viridis\")\n",
    "    plt.figure(figsize=(10, 8))\n",
    "    plt.plot(fpr, tpr)\n",
    "    plt.plot([0, 1], [0, 1], linestyle='--')\n",
    "    plt.xlabel('1 - Especificidade (Taxa de Falsos Positivos)') # False Positive Rate = False Positives / (False Positives + True Negatives) <=> Specificity = True Negatives / (True Negatives + False Positives) <=> False Positive Rate = 1 - Specificity\n",
    "    plt.ylabel('Sensibilidade (Taxa de Verdadeiros Positivos)') # True Positive Rate = True Positives / (True Positives + False Negatives) <=> Sensitivity = True Positives / (True Positives + False Negatives) <=> Recall\n",
    "    # plt.title('ROC curve') # Receiver Operating Characteristic\n",
    "    plt.legend([\"AUC {0:.4f}\".format(calculated_auc)], loc=\"lower right\")\n",
    "    plt.show()\n",
    "\n",
    "def _precision_recall(y_test, p_hat, y_hat):\n",
    "    precision, recall, _ = precision_recall_curve(y_test, p_hat)\n",
    "    f1, calculated_auc = f1_score(y_test, y_hat), auc(recall, precision)\n",
    "    no_skill = len(y_test[y_test==1]) / len(y_test)\n",
    "    # print('Logistic: f1=%.4f auc=%.4f' % (f1, auc))\n",
    "    \n",
    "    plt.figure(figsize=(10, 8))\n",
    "    plt.plot(recall, precision)\n",
    "    plt.plot([0, 1], [no_skill, no_skill], linestyle='--')\n",
    "    plt.xlabel('Revocação')\n",
    "    plt.ylabel('Precisão')\n",
    "    #plt.title('Precision-recal curve and f1')\n",
    "    plt.legend([\"AUC {0:.4f}\".format(calculated_auc)], loc=\"lower right\")\n",
    "    plt.show()\n",
    "\n",
    "def _histograma(distribuition):\n",
    "    plt.figure(figsize=(10, 8))\n",
    "    plt.hist(distribuition, bins=50)\n",
    "    plt.text(0.51, 410,'cutoff', rotation=90)\n",
    "    plt.axvline(x=0.5, color='orange')\n",
    "    plt.grid(axis='y', alpha=0.50)\n",
    "    plt.xlabel('Probabilidade')\n",
    "    plt.ylabel('Frequência')\n",
    "    # plt.title('Propability prediction')\n",
    "    plt.show()\n",
    "\n",
    "def _ephoc_loses(history):\n",
    "    acc = history.history['accuracy']\n",
    "    val_acc = history.history['val_accuracy']\n",
    "    loss = history.history['loss']\n",
    "    val_loss = history.history['val_loss']\n",
    "\n",
    "    epochs_plt = range(1, len(acc) + 1)\n",
    "\n",
    "    plt.figure(figsize=(12, 12))\n",
    "\n",
    "    plt.subplot(2, 1, 1)\n",
    "    plt.plot(epochs_plt, acc, label='Training Accuracy')\n",
    "    plt.plot(epochs_plt, val_acc, label='Validation Accuracy')\n",
    "    plt.legend(loc='upper right')\n",
    "    plt.ylabel('Accuracy')\n",
    "    plt.ylim([min(plt.ylim()),1])\n",
    "    plt.title('Training and Validation Accuracy')\n",
    "\n",
    "    plt.subplot(2, 1, 2)\n",
    "    plt.plot(epochs_plt, loss, label='Training Loss')\n",
    "    plt.plot(epochs_plt, val_loss, label='Validation Loss')\n",
    "    plt.legend(loc='upper right')\n",
    "    plt.ylabel('Cross Entropy')\n",
    "    plt.ylim([0,1.0])\n",
    "    plt.title('Training and Validation Loss')\n",
    "    plt.xlabel('epoch')\n",
    "    plt.show()\n"
   ]
  },
  {
   "cell_type": "code",
   "execution_count": 10,
   "metadata": {},
   "outputs": [],
   "source": [
    "sequences, word_index_items, word_counts = _vectorize(df['texto_clean_pure'].values.astype('U'))"
   ]
  },
  {
   "cell_type": "code",
   "execution_count": 11,
   "metadata": {},
   "outputs": [],
   "source": [
    "for linha_atual in sequences:\n",
    "    if len(linha_atual) == 1:\n",
    "        print(sequence_to_text(linha_atual, word_index_items))\n"
   ]
  },
  {
   "cell_type": "code",
   "execution_count": 12,
   "metadata": {},
   "outputs": [
    {
     "name": "stdout",
     "output_type": "stream",
     "text": [
      "Número médio de palavras: 782 (pelo menos 0 palavras)\n"
     ]
    },
    {
     "data": {
      "image/png": "[encoded data removed]",
      "text/plain": [
       "<Figure size 432x288 with 1 Axes>"
      ]
     },
     "metadata": {
      "needs_background": "light"
     },
     "output_type": "display_data"
    }
   ],
   "source": [
    "max_length = chart_palavras_por_documento(sequences)\n",
    "chart_frequencia_palavras(df, 'texto_clean_pure', n_words=15)"
   ]
  },
  {
   "cell_type": "markdown",
   "metadata": {},
   "source": [
    "#### Criação do modelo"
   ]
  },
  {
   "cell_type": "code",
   "execution_count": 13,
   "metadata": {},
   "outputs": [],
   "source": [
    "X = _pad(sequences, max_length)\n",
    "Y = df['categoria_binaria']"
   ]
  },
  {
   "cell_type": "code",
   "execution_count": 14,
   "metadata": {},
   "outputs": [
    {
     "name": "stdout",
     "output_type": "stream",
     "text": [
      "Shapes de TRAIN - x_train=(11232, 782) e y_train=(11232,)\n",
      "Shapes de VALIDATION - x_validation=(1404, 782) e y_validation=(1404,)\n",
      "Shapes de TEST - x_test=(1404, 782) e y_test=(1404,)\n"
     ]
    }
   ],
   "source": [
    "x_train, x_test, y_train, y_test = train_test_split(X, Y, test_size=0.20, random_state=42) # 80% treino\n",
    "x_validation, x_test, y_validation, y_test,  = train_test_split(x_test, y_test, test_size=0.5, random_state=42) # 10% teste e 10% validação\n",
    "\n",
    "print('Shapes de TRAIN - x_train={} e y_train={}'.format(np.shape(x_train), np.shape(y_train)))\n",
    "print('Shapes de VALIDATION - x_validation={} e y_validation={}'.format(np.shape(x_validation), np.shape(y_validation)))\n",
    "print('Shapes de TEST - x_test={} e y_test={}'.format(np.shape(x_test), np.shape(y_test)))"
   ]
  },
  {
   "attachments": {},
   "cell_type": "markdown",
   "metadata": {
    "collapsed": false,
    "pycharm": {
     "name": "#%% md\n"
    }
   },
   "source": [
    "#### Configuração da sessão do Keras"
   ]
  },
  {
   "cell_type": "code",
   "execution_count": 15,
   "metadata": {},
   "outputs": [
    {
     "name": "stderr",
     "output_type": "stream",
     "text": [
      "2023-04-20 23:33:23.476833: I tensorflow/core/platform/cpu_feature_guard.cc:193] This TensorFlow binary is optimized with oneAPI Deep Neural Network Library (oneDNN) to use the following CPU instructions in performance-critical operations:  AVX2 FMA\n",
      "To enable them in other operations, rebuild TensorFlow with the appropriate compiler flags.\n",
      "2023-04-20 23:33:23.536234: E tensorflow/stream_executor/cuda/cuda_driver.cc:271] failed call to cuInit: CUDA_ERROR_UNKNOWN: unknown error\n",
      "2023-04-20 23:33:23.536277: I tensorflow/stream_executor/cuda/cuda_diagnostics.cc:169] retrieving CUDA diagnostic information for host: home-001\n",
      "2023-04-20 23:33:23.536286: I tensorflow/stream_executor/cuda/cuda_diagnostics.cc:176] hostname: home-001\n",
      "2023-04-20 23:33:23.536442: I tensorflow/stream_executor/cuda/cuda_diagnostics.cc:200] libcuda reported version is: 525.105.17\n",
      "2023-04-20 23:33:23.536473: I tensorflow/stream_executor/cuda/cuda_diagnostics.cc:204] kernel reported version is: 525.60.13\n",
      "2023-04-20 23:33:23.536481: E tensorflow/stream_executor/cuda/cuda_diagnostics.cc:313] kernel version 525.60.13 does not match DSO version 525.105.17 -- cannot find working devices in this configuration\n"
     ]
    }
   ],
   "source": [
    "# sudo nano  /sys/bus/pci/devices/0000\\:01\\:00.0/numa_node\n",
    "# sudo sh -c \"echo '0' >> /sys/bus/pci/devices/0000\\:01\\:00.0/numa_node\"\n",
    "\n",
    "config = tf.compat.v1.ConfigProto()\n",
    "config.gpu_options.allow_growth = True\n",
    "config.gpu_options.force_gpu_compatible = True\n",
    "config.inter_op_parallelism_threads = 4\n",
    "config.intra_op_parallelism_threads = 4\n",
    "\n",
    "sess = tf.compat.v1.Session(graph=tf.compat.v1.get_default_graph(), config=config)\n",
    "K.set_session(sess)"
   ]
  },
  {
   "attachments": {},
   "cell_type": "markdown",
   "metadata": {},
   "source": [
    "#### Design da rede neural"
   ]
  },
  {
   "cell_type": "code",
   "execution_count": 16,
   "metadata": {
    "collapsed": false,
    "pycharm": {
     "name": "#%%\n"
    }
   },
   "outputs": [
    {
     "name": "stdout",
     "output_type": "stream",
     "text": [
      "Model: \"sequential\"\n",
      "_________________________________________________________________\n",
      " Layer (type)                Output Shape              Param #   \n",
      "=================================================================\n",
      " embedding (Embedding)       (None, 782, 16)           1600016   \n",
      "                                                                 \n",
      " flatten (Flatten)           (None, 12512)             0         \n",
      "                                                                 \n",
      " dense (Dense)               (None, 64)                800832    \n",
      "                                                                 \n",
      " dropout (Dropout)           (None, 64)                0         \n",
      "                                                                 \n",
      " dense_1 (Dense)             (None, 1)                 65        \n",
      "                                                                 \n",
      "=================================================================\n",
      "Total params: 2,400,913\n",
      "Trainable params: 2,400,913\n",
      "Non-trainable params: 0\n",
      "_________________________________________________________________\n",
      "None\n",
      "embedding layer dimensions and parameters: (16, 100001, 1600016)\n",
      "...flatten: (782, 16, 12512)\n",
      "...dense: (64, 800832)\n",
      "...and output: 65\n"
     ]
    }
   ],
   "source": [
    "model = Sequential()\n",
    "\n",
    "# first hidden layer:\n",
    "model.add(Embedding(n_unique_words, n_dim, input_length=max_length))\n",
    "model.add(Flatten())\n",
    "\n",
    "# second hidden layer:\n",
    "model.add(Dense(n_dense, activation='relu'))\n",
    "model.add(Dropout(dropout))\n",
    "\n",
    "# output layer:\n",
    "model.add(Dense(1, activation='sigmoid')) # mathmatically equivalent to softmax with two classes\n",
    "\n",
    "# informações\n",
    "print(model.summary())\n",
    "\n",
    "print(\"embedding layer dimensions and parameters: {}\".format((n_dim, n_unique_words, n_dim*n_unique_words)))\n",
    "print(\"...flatten: {}\".format((max_length, n_dim, max_length*n_dim)))\n",
    "print(\"...dense: {}\".format((n_dense, n_dim*max_length*n_dense + n_dense))) #weights + biases\n",
    "print(\"...and output: {}\".format((n_dense + 1)))"
   ]
  },
  {
   "attachments": {},
   "cell_type": "markdown",
   "metadata": {
    "collapsed": false,
    "pycharm": {
     "name": "#%% md\n"
    }
   },
   "source": [
    "#### Configuração do modelo"
   ]
  },
  {
   "cell_type": "code",
   "execution_count": 17,
   "metadata": {
    "collapsed": false,
    "pycharm": {
     "name": "#%%\n"
    }
   },
   "outputs": [],
   "source": [
    "model.compile(optimizer=tf.keras.optimizers.Adam(learning_rate=base_learning_rate),\n",
    "              loss=tf.keras.losses.BinaryCrossentropy(from_logits=False),\n",
    "              metrics=['accuracy'])"
   ]
  },
  {
   "attachments": {},
   "cell_type": "markdown",
   "metadata": {
    "collapsed": false,
    "pycharm": {
     "name": "#%% md\n"
    }
   },
   "source": [
    "#### Treinamento e validação"
   ]
  },
  {
   "cell_type": "code",
   "execution_count": 18,
   "metadata": {
    "collapsed": false,
    "pycharm": {
     "name": "#%%\n"
    }
   },
   "outputs": [
    {
     "name": "stdout",
     "output_type": "stream",
     "text": [
      "Epoch 1/40\n",
      "22/22 [==============================] - 2s 53ms/step - loss: 0.4859 - accuracy: 0.8557 - val_loss: 0.3851 - val_accuracy: 0.8647\n",
      "Epoch 2/40\n",
      "22/22 [==============================] - 1s 43ms/step - loss: 0.3790 - accuracy: 0.8767 - val_loss: 0.3851 - val_accuracy: 0.8661\n",
      "Epoch 3/40\n",
      "22/22 [==============================] - 1s 44ms/step - loss: 0.3796 - accuracy: 0.8813 - val_loss: 0.3785 - val_accuracy: 0.8661\n",
      "Epoch 4/40\n",
      "22/22 [==============================] - 1s 45ms/step - loss: 0.3725 - accuracy: 0.8819 - val_loss: 0.3756 - val_accuracy: 0.8675\n",
      "Epoch 5/40\n",
      "22/22 [==============================] - 1s 46ms/step - loss: 0.3677 - accuracy: 0.8836 - val_loss: 0.3723 - val_accuracy: 0.8689\n",
      "Epoch 6/40\n",
      "22/22 [==============================] - 1s 43ms/step - loss: 0.3632 - accuracy: 0.8857 - val_loss: 0.3688 - val_accuracy: 0.8732\n",
      "Epoch 7/40\n",
      "22/22 [==============================] - 1s 43ms/step - loss: 0.3592 - accuracy: 0.8876 - val_loss: 0.3649 - val_accuracy: 0.8754\n",
      "Epoch 8/40\n",
      "22/22 [==============================] - 1s 42ms/step - loss: 0.3553 - accuracy: 0.8889 - val_loss: 0.3607 - val_accuracy: 0.8775\n",
      "Epoch 9/40\n",
      "22/22 [==============================] - 1s 42ms/step - loss: 0.3474 - accuracy: 0.8903 - val_loss: 0.3555 - val_accuracy: 0.8789\n",
      "Epoch 10/40\n",
      "22/22 [==============================] - 1s 42ms/step - loss: 0.3410 - accuracy: 0.8916 - val_loss: 0.3496 - val_accuracy: 0.8789\n",
      "Epoch 11/40\n",
      "22/22 [==============================] - 1s 41ms/step - loss: 0.3337 - accuracy: 0.8927 - val_loss: 0.3441 - val_accuracy: 0.8818\n",
      "Epoch 12/40\n",
      "22/22 [==============================] - 1s 40ms/step - loss: 0.3257 - accuracy: 0.8949 - val_loss: 0.3373 - val_accuracy: 0.8818\n",
      "Epoch 13/40\n",
      "22/22 [==============================] - 1s 39ms/step - loss: 0.3159 - accuracy: 0.8965 - val_loss: 0.3312 - val_accuracy: 0.8818\n",
      "Epoch 14/40\n",
      "22/22 [==============================] - 1s 40ms/step - loss: 0.3072 - accuracy: 0.8982 - val_loss: 0.3255 - val_accuracy: 0.8818\n",
      "Epoch 15/40\n",
      "22/22 [==============================] - 1s 40ms/step - loss: 0.3009 - accuracy: 0.8983 - val_loss: 0.3204 - val_accuracy: 0.8839\n",
      "Epoch 16/40\n",
      "22/22 [==============================] - 1s 42ms/step - loss: 0.2913 - accuracy: 0.8997 - val_loss: 0.3147 - val_accuracy: 0.8868\n",
      "Epoch 17/40\n",
      "22/22 [==============================] - 1s 38ms/step - loss: 0.2814 - accuracy: 0.9013 - val_loss: 0.3099 - val_accuracy: 0.8868\n",
      "Epoch 18/40\n",
      "22/22 [==============================] - 1s 39ms/step - loss: 0.2732 - accuracy: 0.9025 - val_loss: 0.3055 - val_accuracy: 0.8875\n",
      "Epoch 19/40\n",
      "22/22 [==============================] - 1s 40ms/step - loss: 0.2661 - accuracy: 0.9039 - val_loss: 0.3007 - val_accuracy: 0.8896\n",
      "Epoch 20/40\n",
      "22/22 [==============================] - 1s 39ms/step - loss: 0.2570 - accuracy: 0.9066 - val_loss: 0.2978 - val_accuracy: 0.8910\n",
      "Epoch 21/40\n",
      "22/22 [==============================] - 1s 37ms/step - loss: 0.2488 - accuracy: 0.9089 - val_loss: 0.2942 - val_accuracy: 0.8925\n",
      "Epoch 22/40\n",
      "22/22 [==============================] - 1s 36ms/step - loss: 0.2419 - accuracy: 0.9106 - val_loss: 0.2902 - val_accuracy: 0.8910\n",
      "Epoch 23/40\n",
      "22/22 [==============================] - 1s 36ms/step - loss: 0.2325 - accuracy: 0.9136 - val_loss: 0.2870 - val_accuracy: 0.8910\n",
      "Epoch 24/40\n",
      "22/22 [==============================] - 1s 36ms/step - loss: 0.2255 - accuracy: 0.9152 - val_loss: 0.2872 - val_accuracy: 0.8932\n",
      "Epoch 25/40\n",
      "22/22 [==============================] - 1s 36ms/step - loss: 0.2186 - accuracy: 0.9184 - val_loss: 0.2856 - val_accuracy: 0.8917\n",
      "Epoch 26/40\n",
      "22/22 [==============================] - 1s 36ms/step - loss: 0.2103 - accuracy: 0.9209 - val_loss: 0.2805 - val_accuracy: 0.8939\n",
      "Epoch 27/40\n",
      "22/22 [==============================] - 1s 37ms/step - loss: 0.2029 - accuracy: 0.9241 - val_loss: 0.2802 - val_accuracy: 0.8932\n",
      "Epoch 28/40\n",
      "22/22 [==============================] - 1s 35ms/step - loss: 0.1962 - accuracy: 0.9254 - val_loss: 0.2781 - val_accuracy: 0.8939\n",
      "Epoch 29/40\n",
      "22/22 [==============================] - 1s 37ms/step - loss: 0.1905 - accuracy: 0.9298 - val_loss: 0.2767 - val_accuracy: 0.8939\n",
      "Epoch 30/40\n",
      "22/22 [==============================] - 1s 35ms/step - loss: 0.1840 - accuracy: 0.9312 - val_loss: 0.2730 - val_accuracy: 0.8967\n",
      "Epoch 31/40\n",
      "22/22 [==============================] - 1s 35ms/step - loss: 0.1764 - accuracy: 0.9350 - val_loss: 0.2720 - val_accuracy: 0.8981\n",
      "Epoch 32/40\n",
      "22/22 [==============================] - 1s 36ms/step - loss: 0.1697 - accuracy: 0.9379 - val_loss: 0.2755 - val_accuracy: 0.8974\n",
      "Epoch 33/40\n",
      "22/22 [==============================] - 1s 36ms/step - loss: 0.1636 - accuracy: 0.9379 - val_loss: 0.2724 - val_accuracy: 0.8989\n",
      "Epoch 34/40\n",
      "22/22 [==============================] - 1s 35ms/step - loss: 0.1593 - accuracy: 0.9402 - val_loss: 0.2727 - val_accuracy: 0.8981\n",
      "Epoch 35/40\n",
      "22/22 [==============================] - 1s 36ms/step - loss: 0.1555 - accuracy: 0.9413 - val_loss: 0.2707 - val_accuracy: 0.8989\n",
      "Epoch 36/40\n",
      "22/22 [==============================] - 1s 37ms/step - loss: 0.1489 - accuracy: 0.9458 - val_loss: 0.2709 - val_accuracy: 0.8981\n",
      "Epoch 37/40\n",
      "22/22 [==============================] - 1s 35ms/step - loss: 0.1452 - accuracy: 0.9469 - val_loss: 0.2719 - val_accuracy: 0.8981\n",
      "Epoch 38/40\n",
      "22/22 [==============================] - 1s 36ms/step - loss: 0.1411 - accuracy: 0.9481 - val_loss: 0.2722 - val_accuracy: 0.8989\n",
      "Epoch 39/40\n",
      "22/22 [==============================] - 1s 36ms/step - loss: 0.1365 - accuracy: 0.9515 - val_loss: 0.2723 - val_accuracy: 0.8989\n",
      "Epoch 40/40\n",
      "22/22 [==============================] - 1s 35ms/step - loss: 0.1333 - accuracy: 0.9519 - val_loss: 0.2703 - val_accuracy: 0.8974\n"
     ]
    }
   ],
   "source": [
    "history = model.fit(x_train, y_train,\n",
    "                    epochs=epochs,\n",
    "                    batch_size=batch_size,\n",
    "                    validation_data=(x_validation, y_validation))"
   ]
  },
  {
   "attachments": {},
   "cell_type": "markdown",
   "metadata": {
    "collapsed": false
   },
   "source": [
    "#### Aplicação na base de testes"
   ]
  },
  {
   "cell_type": "code",
   "execution_count": 19,
   "metadata": {},
   "outputs": [],
   "source": [
    "# Apply a sigmoid since our model returns logits\n",
    "# predictions = tf.nn.sigmoid(predictions)\n",
    "# predictions = tf.where(predictions < 0.5, 0, 1)\n",
    "\n",
    "p_hat = model.predict_on_batch(x_test).flatten()\n",
    "y_hat = [0 if probability < 0.5 else 1 for probability in p_hat]"
   ]
  },
  {
   "cell_type": "markdown",
   "metadata": {},
   "source": [
    "#### Geração de estatísticas"
   ]
  },
  {
   "cell_type": "code",
   "execution_count": 20,
   "metadata": {},
   "outputs": [
    {
     "name": "stdout",
     "output_type": "stream",
     "text": [
      "              precision    recall  f1-score   support\n",
      "\n",
      "           0     0.9239    0.9733    0.9479      1235\n",
      "           1     0.6796    0.4142    0.5147       169\n",
      "\n",
      "    accuracy                         0.9060      1404\n",
      "   macro avg     0.8018    0.6937    0.7313      1404\n",
      "weighted avg     0.8945    0.9060    0.8958      1404\n",
      "\n"
     ]
    },
    {
     "data": {
      "image/png": "[encoded data removed]",
      "text/plain": [
       "<Figure size 720x576 with 1 Axes>"
      ]
     },
     "metadata": {
      "needs_background": "light"
     },
     "output_type": "display_data"
    },
    {
     "data": {
      "image/png": "[encoded data removed]",
      "text/plain": [
       "<Figure size 720x576 with 1 Axes>"
      ]
     },
     "metadata": {
      "needs_background": "light"
     },
     "output_type": "display_data"
    },
    {
     "data": {
      "image/png": "[encoded data removed]",
      "text/plain": [
       "<Figure size 720x576 with 1 Axes>"
      ]
     },
     "metadata": {
      "needs_background": "light"
     },
     "output_type": "display_data"
    },
    {
     "data": {
      "image/png": "[encoded data removed]",
      "text/plain": [
       "<Figure size 720x576 with 1 Axes>"
      ]
     },
     "metadata": {
      "needs_background": "light"
     },
     "output_type": "display_data"
    },
    {
     "data": {
      "image/png": "[encoded data removed]",
      "text/plain": [
       "<Figure size 864x864 with 2 Axes>"
      ]
     },
     "metadata": {
      "needs_background": "light"
     },
     "output_type": "display_data"
    },
    {
     "name": "stdout",
     "output_type": "stream",
     "text": [
      "44/44 [==============================] - 0s 2ms/step - loss: 0.2398 - accuracy: 0.9060\n",
      "Test accuracy: 0.9060\n",
      "Test loss: 0.2398\n"
     ]
    }
   ],
   "source": [
    "_matrix_confusao(y_test, y_hat)\n",
    "_curva_roc(y_test, p_hat)\n",
    "_precision_recall(y_test, p_hat, y_hat)\n",
    "_histograma(p_hat)\n",
    "_ephoc_loses(history)\n",
    "\n",
    "loss, accuracy = model.evaluate(x_test, y_test)\n",
    "\n",
    "print('Test accuracy: {:0.4f}'.format(accuracy))\n",
    "print('Test loss: {:0.4f}'.format(loss))"
   ]
  }
 ],
 "metadata": {
  "kernelspec": {
   "display_name": "Python 3.10.4 ('.venv': venv)",
   "language": "python",
   "name": "python3"
  },
  "language_info": {
   "codemirror_mode": {
    "name": "ipython",
    "version": 3
   },
   "file_extension": ".py",
   "mimetype": "text/x-python",
   "name": "python",
   "nbconvert_exporter": "python",
   "pygments_lexer": "ipython3",
   "version": "3.10.7"
  },
  "orig_nbformat": 4,
  "vscode": {
   "interpreter": {
    "hash": "e99eb1728f8c1d324c385629a52913aa159c2c0ce78b3233732d363a13709a03"
   }
  }
 },
 "nbformat": 4,
 "nbformat_minor": 2
}
